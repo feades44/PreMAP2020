{
 "cells": [
  {
   "cell_type": "markdown",
   "metadata": {},
   "source": [
    "[Pre-MAP Course Website](http://depts.washington.edu/premap/seminar/cohort-16-2020-seminar/) | [Pre-MAP GitHub](https://github.com/UWPreMAP/PreMAP2020) | [Google](https://www.google.com)\n",
    "\n",
    "# Python packages\n",
    "\n",
    "\n",
    "We do specialized tasks in Python with _packages_. A package is a collection of Python functions that someone wrote and bundled together for you to use. Some of the Python packages that we'll learn to use include: \n",
    "\n",
    "| Package | Uses                     |\n",
    "|---------|--------------------------|\n",
    "| `numpy` | Math with arrays (more on this below) | \n",
    "| `scipy` | A math toolkit built for use by scientists | \n",
    "| `matplotlib` | Visualization (plotting!) | \n",
    "| `astropy` | Astronomy-specific functions of all kinds | \n",
    "\n",
    "## Numpy\n",
    "\n",
    "Numpy is the most important package that we're going to teach you about, because it allows you to do calculations very quickly with Python. Below, we'll discover why it's useful.\n",
    "\n",
    "*** \n",
    "\n",
    "Let's say you want to take the $\\sin$ or $\\cos$ of an angle. There are numpy function that do this for you. \n",
    "\n",
    "To gain access to numpy's functions, you always need to do this command first: \n",
    "```python\n",
    "import numpy as np\n",
    "```\n",
    "Run the line above in the cell below: "
   ]
  },
  {
   "cell_type": "code",
   "execution_count": 13,
   "metadata": {},
   "outputs": [],
   "source": [
    "import numpy as np"
   ]
  },
  {
   "cell_type": "markdown",
   "metadata": {},
   "source": [
    "Now there's a _package_ stored in the variable called `np` that we can access anywhere in this notebook. There are _functions_ for $\\sin$ and $\\cos$ that live within numpy. The way to access a function within a package is by calling the function name with a period after it, then the name of the function you want. So for $\\sin$, you can do: \n",
    "```python\n",
    "np.sin(0)\n",
    "```\n",
    "The `np.` part says \"give me this function from numpy\". The `sin()` part says \"the function that I want to use is $\\sin$\", and the `0` is the angle that we want to take the $\\sin$ of, in units of radians. Run that line in the cell below, and experiment with different angles. Try `np.cos` too."
   ]
  },
  {
   "cell_type": "code",
   "execution_count": 14,
   "metadata": {},
   "outputs": [
    {
     "data": {
      "text/plain": [
       "1.0"
      ]
     },
     "execution_count": 14,
     "metadata": {},
     "output_type": "execute_result"
    }
   ],
   "source": [
    "np.sin(1)\n",
    "np.cos(0)"
   ]
  },
  {
   "cell_type": "markdown",
   "metadata": {},
   "source": [
    "Numpy also has some built-in numbers that you might use. For example, $\\pi$ is stored (to high precision!), in `np.pi`. Print out numpy's $\\pi$ in the cell below: "
   ]
  },
  {
   "cell_type": "code",
   "execution_count": 15,
   "metadata": {},
   "outputs": [
    {
     "data": {
      "text/plain": [
       "3.141592653589793"
      ]
     },
     "execution_count": 15,
     "metadata": {},
     "output_type": "execute_result"
    }
   ],
   "source": [
    "angle_list = [0, 1/2 * np.pi, np.pi, 3/2 * np.pi, 2 * np.pi]\n",
    "angle_array = np.array(angle_list)\n",
    "np.pi"
   ]
  },
  {
   "cell_type": "markdown",
   "metadata": {},
   "source": [
    "Now let's say you had a list of angles, like `angles`$= [0, \\pi/2, \\pi, 3\\pi/2, 2\\pi]$. You could call `np.sin(angles[0])` to get the $\\sin$ of the first angle, then `np.sin(angles[1])` on the second angle, etc. But that would be a really slow way to do it! \n",
    "\n",
    "### Arrays\n",
    "\n",
    "The quick way is to create a _numpy array_. A numpy array is a vector or matrix of numbers, similar to the built in Python lists we saw in the last lesson. ```numpy``` can act on arrays more efficiently than Python can with ordinary lists.\n",
    "\n",
    "Let's make a numpy array filled with the angles above:\n",
    "```python\n",
    "# First, here's the list that we want to have an array of: \n",
    "angle_list = [0, 1/2 * np.pi, np.pi, 3/2 * np.pi, 2 * np.pi]\n",
    "\n",
    "# Here's how we make a numpy array out of the list\n",
    "angle_array = np.array(angle_list)\n",
    "```\n",
    "Write out those lines in the cell below. "
   ]
  },
  {
   "cell_type": "code",
   "execution_count": 12,
   "metadata": {},
   "outputs": [
    {
     "ename": "NameError",
     "evalue": "name 'np' is not defined",
     "output_type": "error",
     "traceback": [
      "\u001b[0;31m---------------------------------------------------------------------------\u001b[0m",
      "\u001b[0;31mNameError\u001b[0m                                 Traceback (most recent call last)",
      "\u001b[0;32m<ipython-input-12-2fb53be686df>\u001b[0m in \u001b[0;36m<module>\u001b[0;34m\u001b[0m\n\u001b[0;32m----> 1\u001b[0;31m \u001b[0mangle_list\u001b[0m \u001b[0;34m=\u001b[0m \u001b[0;34m[\u001b[0m\u001b[0;36m0\u001b[0m\u001b[0;34m,\u001b[0m \u001b[0;36m1\u001b[0m\u001b[0;34m/\u001b[0m\u001b[0;36m2\u001b[0m \u001b[0;34m*\u001b[0m \u001b[0mnp\u001b[0m\u001b[0;34m.\u001b[0m\u001b[0mpi\u001b[0m\u001b[0;34m,\u001b[0m \u001b[0mnp\u001b[0m\u001b[0;34m.\u001b[0m\u001b[0mpi\u001b[0m\u001b[0;34m,\u001b[0m \u001b[0;36m3\u001b[0m\u001b[0;34m/\u001b[0m\u001b[0;36m2\u001b[0m \u001b[0;34m*\u001b[0m \u001b[0mnp\u001b[0m\u001b[0;34m.\u001b[0m\u001b[0mpi\u001b[0m\u001b[0;34m,\u001b[0m \u001b[0;36m2\u001b[0m \u001b[0;34m*\u001b[0m \u001b[0mnp\u001b[0m\u001b[0;34m.\u001b[0m\u001b[0mpi\u001b[0m\u001b[0;34m]\u001b[0m\u001b[0;34m\u001b[0m\u001b[0;34m\u001b[0m\u001b[0m\n\u001b[0m\u001b[1;32m      2\u001b[0m \u001b[0mangle_array\u001b[0m\u001b[0;34m.\u001b[0m\u001b[0msum\u001b[0m\u001b[0;34m(\u001b[0m\u001b[0;34m)\u001b[0m\u001b[0;34m\u001b[0m\u001b[0;34m\u001b[0m\u001b[0m\n\u001b[1;32m      3\u001b[0m \u001b[0mprint\u001b[0m \u001b[0;34m(\u001b[0m\u001b[0;34m'sum:'\u001b[0m\u001b[0;34m,\u001b[0m \u001b[0mangle_array\u001b[0m\u001b[0;34m.\u001b[0m\u001b[0msum\u001b[0m\u001b[0;34m(\u001b[0m\u001b[0;34m)\u001b[0m\u001b[0;34m)\u001b[0m\u001b[0;34m\u001b[0m\u001b[0;34m\u001b[0m\u001b[0m\n\u001b[1;32m      4\u001b[0m \u001b[0mprint\u001b[0m \u001b[0;34m(\u001b[0m\u001b[0;34m'mean:'\u001b[0m\u001b[0;34m,\u001b[0m \u001b[0mangle_array\u001b[0m\u001b[0;34m.\u001b[0m\u001b[0mmean\u001b[0m\u001b[0;34m(\u001b[0m\u001b[0;34m)\u001b[0m\u001b[0;34m)\u001b[0m\u001b[0;34m\u001b[0m\u001b[0;34m\u001b[0m\u001b[0m\n\u001b[1;32m      5\u001b[0m \u001b[0;32mimport\u001b[0m \u001b[0mnumpy\u001b[0m \u001b[0;32mas\u001b[0m \u001b[0mnp\u001b[0m\u001b[0;34m\u001b[0m\u001b[0;34m\u001b[0m\u001b[0m\n",
      "\u001b[0;31mNameError\u001b[0m: name 'np' is not defined"
     ]
    }
   ],
   "source": [
    "angle_list = [0, 1/2 * np.pi, np.pi, 3/2 * np.pi, 2 * np.pi]\n",
    "angle_array.sum()\n",
    "print ('sum:', angle_array.sum())\n",
    "print ('mean:', angle_array.mean())\n",
    "import numpy as np"
   ]
  },
  {
   "cell_type": "markdown",
   "metadata": {},
   "source": [
    "Let's break down the command `np.array(angle_list)`. The `np.` says we're going to use a function from numpy, the `array()` says we're going to make an array out of the thing in the parentheses, and the `angle_list` is the _input_ or the _argument_ of the function. \n",
    "\n",
    "Now you can do things with the numpy array that you couldn't do with a Python list. Here are some of them, which you should experiment with in the cell below: \n",
    "```python\n",
    "# Sum of all elements in the array:\n",
    "angle_array.sum()\n",
    "\n",
    "# Mean of all elements in the array:\n",
    "angle_array.mean()\n",
    "\n",
    "# Maximum of the elements in the array:\n",
    "angle_array.max()\n",
    "\n",
    "# Minimum of the elements in the array: \n",
    "angle_array.min()\n",
    "\n",
    "# Standard deviation of the elements in the array: \n",
    "angle_array.std()\n",
    "```\n",
    "Try running each of the above commands one-by-one in the cell below to see what they output."
   ]
  },
  {
   "cell_type": "code",
   "execution_count": 16,
   "metadata": {},
   "outputs": [
    {
     "data": {
      "text/plain": [
       "0.5403023058681398"
      ]
     },
     "execution_count": 16,
     "metadata": {},
     "output_type": "execute_result"
    }
   ],
   "source": [
    "np.cos(1)"
   ]
  },
  {
   "cell_type": "markdown",
   "metadata": {},
   "source": [
    "### Syntax Tips and Help ###\n",
    "So what happens when you forget the name of a `numpy` function, or the how to use a particular function? `Jupyter` has some cool built-in features that you should take advantage of!\n",
    "\n",
    "For example, say you forgot the name of the `sum` function -- you can type `np.` and then press `tab`, and you'll see that the notebook lists what functions are available in `numpy`! Spoiler alert, it's a loooong list since `numpy` has many functionalities. \n",
    "\n",
    "The point is you can use the `tab` tool (recall tab completion trick) to help you remember or recognize the function you're looking for. \n",
    "\n",
    "Just like how in `bash` environments you can read details on how to use a function, you can do that in `Python` as well. For example, say you forgot how to use the `np.sin` function -- you can type `np.sin?` + `Cntrl`+`return` and the notebook will return an inline window that tells you almost everything you need to know about the function. \n",
    "\n",
    "Try playing around with `np.` + `tab` and `np.cos?`, or any function with a `?` at the end, below."
   ]
  },
  {
   "cell_type": "code",
   "execution_count": null,
   "metadata": {},
   "outputs": [],
   "source": []
  },
  {
   "cell_type": "markdown",
   "metadata": {},
   "source": [
    "### Example 1: Calculations with arrays\n",
    "\n",
    "What is the $\\sin$ and $\\cos$ of each angle? Use the numpy array `angle_array` as the argument to the `np.sin` and `np.cos` functions in the cell below:"
   ]
  },
  {
   "cell_type": "code",
   "execution_count": 47,
   "metadata": {},
   "outputs": [
    {
     "name": "stdout",
     "output_type": "stream",
     "text": [
      "[ 0.0000000e+00  1.0000000e+00  1.2246468e-16 -1.0000000e+00\n",
      " -2.4492936e-16]\n",
      "[ 1.0000000e+00  6.1232340e-17 -1.0000000e+00 -1.8369702e-16\n",
      "  1.0000000e+00]\n"
     ]
    }
   ],
   "source": [
    "print(np.sin(angle_array))\n",
    "\n",
    "print (np.cos(angle_array))"
   ]
  },
  {
   "cell_type": "markdown",
   "metadata": {},
   "source": [
    "Now you might be saying - wait a minute, $\\sin(3\\pi/2) = 0$, not $\\approx$`1e-16`, what's that about? The short answer is - computers often get very very close to approximating the numbers that we actually want, but not all of the way there. You can get better precision if you tell the computer to use more memory. \n",
    "\n",
    "***\n",
    "\n",
    "## Array arithmetic\n",
    "\n",
    "There are lots of situations where you'll want to create a certain kind of array, and numpy has functions to help. \n",
    "\n",
    "You can make an array of consecutive integers from zero to nine with the function `np.arange`:\n",
    "```python\n",
    "consecutive_integers = np.arange(10)\n",
    "```\n",
    "This function returns different things depending on the amount of _arguments_ that you give it. If there's one number in the parentheses, it tells `np.arange` what number to stop at (exclusive). If there are three numbers, they signify `np.arange(start, stop, step)`. For example, `np.arange(1, 9, 2)` would start at 1, stop before 9, with a step size of 2, so it would return `[1, 3, 5, 7]`.\n",
    "\n",
    "In the cell below, make an array with 10,000 sequential integers, starting with the zero. Save the array into a variable called `consecutive_integers`, and print it out:"
   ]
  },
  {
   "cell_type": "code",
   "execution_count": 56,
   "metadata": {},
   "outputs": [
    {
     "name": "stdout",
     "output_type": "stream",
     "text": [
      "[0 1 2 3 4 5 6 7 8 9]\n"
     ]
    },
    {
     "data": {
      "text/plain": [
       "array([1, 3, 5, 7])"
      ]
     },
     "execution_count": 56,
     "metadata": {},
     "output_type": "execute_result"
    }
   ],
   "source": [
    "print(np.arange(10)) \n",
    "np.arange(1,9,2)"
   ]
  },
  {
   "cell_type": "markdown",
   "metadata": {},
   "source": [
    "You'll see that numpy is polite. It knows you probably don't want to see all ten thousand integers, so it prints just the beginning and end of the array. \n",
    "\n",
    "### Exercise 2: Indexing/slicing numpy arrays\n",
    "The same indexing and slicing rules that we learned for lists work on arrays. Keep in mind that arrays are indexed starting with 0, just like ```Python``` lists and when you give a range of indexes, it won't include the last one listed. In the cell below, print the 42nd element of the `consecutive_integers` array, and print the 101-103rd (inclusive) elements of the array:"
   ]
  },
  {
   "cell_type": "code",
   "execution_count": 11,
   "metadata": {
    "scrolled": true
   },
   "outputs": [
    {
     "ename": "NameError",
     "evalue": "name 'np' is not defined",
     "output_type": "error",
     "traceback": [
      "\u001b[0;31m---------------------------------------------------------------------------\u001b[0m",
      "\u001b[0;31mNameError\u001b[0m                                 Traceback (most recent call last)",
      "\u001b[0;32m<ipython-input-11-fcf8569aec5c>\u001b[0m in \u001b[0;36m<module>\u001b[0;34m\u001b[0m\n\u001b[0;32m----> 1\u001b[0;31m \u001b[0mnp\u001b[0m\u001b[0;34m.\u001b[0m\u001b[0mpi\u001b[0m\u001b[0;34m\u001b[0m\u001b[0;34m\u001b[0m\u001b[0m\n\u001b[0m",
      "\u001b[0;31mNameError\u001b[0m: name 'np' is not defined"
     ]
    }
   ],
   "source": []
  },
  {
   "cell_type": "markdown",
   "metadata": {},
   "source": [
    "Unlike lists, you can do arithmetic with numpy arrays. For example, if you had the following list: \n",
    "```python\n",
    "heights = [162, 185, 174, 191]\n",
    "```\n",
    "and you tried to add one to the list, this is what you would get: \n",
    "```python\n",
    "print(heights + 1)\n",
    "```\n",
    "```\n",
    "---------------------------------------------------------------------------\n",
    "TypeError                                 Traceback (most recent call last)\n",
    "<ipython-input-23-ca23c21090bd> in <module>()\n",
    "      1 heights = [162, 185, 174, 191]\n",
    "----> 2 print(heights + 1)\n",
    "\n",
    "TypeError: can only concatenate list (not \"int\") to list\n",
    "```\n",
    "However, this does work if `heights` is a numpy array. \n",
    "\n",
    "### Exercise 3: Array arithmetic\n",
    "\n",
    "In the cell below: \n",
    "1. Create a variable called `heights_array`, which contains a numpy array of `heights` (using the `np.array` function we learned above)\n",
    "2. Try adding, multiplying, subtracting, dividing, exponentiating the array"
   ]
  },
  {
   "cell_type": "code",
   "execution_count": 28,
   "metadata": {},
   "outputs": [
    {
     "data": {
      "text/plain": [
       "array([False, False, False, False,  True, False])"
      ]
     },
     "execution_count": 28,
     "metadata": {},
     "output_type": "execute_result"
    }
   ],
   "source": [
    "heights_list = [60,63,65,70,71,65]\n",
    "heights_list = np.array(heights_list)\n",
    "\n",
    "heights_list**2\n",
    "np.sort(heights_list)\n",
    "heights_list > 70"
   ]
  },
  {
   "cell_type": "markdown",
   "metadata": {},
   "source": [
    "### Exercise 4: Inequalities\n",
    "You can also evaluate inequalities with whole arrays at once. Find which values of the array above are greater than 180: "
   ]
  },
  {
   "cell_type": "code",
   "execution_count": 39,
   "metadata": {},
   "outputs": [
    {
     "ename": "AttributeError",
     "evalue": "'numpy.ndarray' object has no attribute 'append'",
     "output_type": "error",
     "traceback": [
      "\u001b[0;31m---------------------------------------------------------------------------\u001b[0m",
      "\u001b[0;31mAttributeError\u001b[0m                            Traceback (most recent call last)",
      "\u001b[0;32m<ipython-input-39-c8bd4fa96d6d>\u001b[0m in \u001b[0;36m<module>\u001b[0;34m\u001b[0m\n\u001b[1;32m      3\u001b[0m \u001b[0mvery_tall\u001b[0m \u001b[0;34m=\u001b[0m \u001b[0mheights_array\u001b[0m\u001b[0;34m[\u001b[0m\u001b[0mheights_boolean_array\u001b[0m\u001b[0;34m]\u001b[0m\u001b[0;34m\u001b[0m\u001b[0;34m\u001b[0m\u001b[0m\n\u001b[1;32m      4\u001b[0m \u001b[0mvery_tall\u001b[0m\u001b[0;34m\u001b[0m\u001b[0;34m\u001b[0m\u001b[0m\n\u001b[0;32m----> 5\u001b[0;31m \u001b[0mheights_array\u001b[0m \u001b[0;34m.\u001b[0m \u001b[0mappend\u001b[0m\u001b[0;34m(\u001b[0m\u001b[0;36m73\u001b[0m\u001b[0;34m)\u001b[0m\u001b[0;34m\u001b[0m\u001b[0;34m\u001b[0m\u001b[0m\n\u001b[0m",
      "\u001b[0;31mAttributeError\u001b[0m: 'numpy.ndarray' object has no attribute 'append'"
     ]
    }
   ],
   "source": [
    "heights_array = heights_list\n",
    "heights_boolean_array = heights_array > 70\n",
    "very_tall = heights_array[heights_boolean_array]\n",
    "very_tall\n",
    "heights_array . append(73)"
   ]
  },
  {
   "cell_type": "markdown",
   "metadata": {},
   "source": [
    "Notice - numpy arrays don't have to contain numbers (floats and integers). They can be _booleans_, and other things too!\n",
    "\n",
    "A boolean is a special type with the value `True` or `False`."
   ]
  },
  {
   "cell_type": "markdown",
   "metadata": {},
   "source": [
    "### Exercise 5: Fancy indexing \n",
    "\n",
    "We now want to print only the heights in the array that are greater than 180. Given what you know so far, print the heights greater than 180, by accessing them with their indices, i.e. something like \n",
    "\n",
    "```python\n",
    "print(heights_array[  ])\n",
    "                    ^^\n",
    "             put an index here\n",
    "```"
   ]
  },
  {
   "cell_type": "code",
   "execution_count": 46,
   "metadata": {},
   "outputs": [
    {
     "name": "stdout",
     "output_type": "stream",
     "text": [
      "[60 63 65 70 71 65]\n",
      "[False False  True  True  True  True]\n",
      "[65 70 71 65]\n"
     ]
    }
   ],
   "source": [
    "print(heights_array)\n",
    "heights_gt_63 = heights_array > 63\n",
    "print(heights_gt_63)\n",
    "\n",
    "print(heights_array[heights_gt_63])"
   ]
  },
  {
   "cell_type": "markdown",
   "metadata": {},
   "source": [
    "In Exercise 4, you found that you can figure out which numbers in the array were greater than 180 all at once. It turns out, if you save that array of booleans: \n",
    "\n",
    "```python\n",
    "heights_gt_180 = heights_array > 180\n",
    "```\n",
    "\n",
    "You can use `heights_gt_180` like a group of indices on `heights_array` to get just the heights where `heights_gt_180 == True`. \n",
    "\n",
    "In the cell below, try:\n",
    "```python\n",
    "heights_gt_180 = heights_array > 180\n",
    "print(heights_array[heights_gt_180])\n",
    "```\n",
    "Did it print out the right indices? What if you flip the greater than to a less than? What if you try `==` instead?"
   ]
  },
  {
   "cell_type": "code",
   "execution_count": 50,
   "metadata": {},
   "outputs": [
    {
     "ename": "IndexError",
     "evalue": "index 63 is out of bounds for axis 0 with size 6",
     "output_type": "error",
     "traceback": [
      "\u001b[0;31m---------------------------------------------------------------------------\u001b[0m",
      "\u001b[0;31mIndexError\u001b[0m                                Traceback (most recent call last)",
      "\u001b[0;32m<ipython-input-50-086663ad4562>\u001b[0m in \u001b[0;36m<module>\u001b[0;34m\u001b[0m\n\u001b[1;32m      1\u001b[0m \u001b[0mheights_eq_63\u001b[0m \u001b[0;34m=\u001b[0m \u001b[0mheights_array\u001b[0m \u001b[0;34m==\u001b[0m \u001b[0;36m63\u001b[0m\u001b[0;34m\u001b[0m\u001b[0;34m\u001b[0m\u001b[0m\n\u001b[1;32m      2\u001b[0m \u001b[0mheights_eq_63\u001b[0m\u001b[0;34m\u001b[0m\u001b[0;34m\u001b[0m\u001b[0m\n\u001b[0;32m----> 3\u001b[0;31m \u001b[0mprint\u001b[0m\u001b[0;34m(\u001b[0m\u001b[0mheights_array\u001b[0m\u001b[0;34m[\u001b[0m\u001b[0;36m63\u001b[0m\u001b[0;34m]\u001b[0m\u001b[0;34m)\u001b[0m\u001b[0;34m\u001b[0m\u001b[0;34m\u001b[0m\u001b[0m\n\u001b[0m",
      "\u001b[0;31mIndexError\u001b[0m: index 63 is out of bounds for axis 0 with size 6"
     ]
    }
   ],
   "source": [
    "heights_eq_63 = heights_array == 63\n",
    "heights_eq_63\n",
    "print(heights_array[63])"
   ]
  },
  {
   "cell_type": "markdown",
   "metadata": {},
   "source": [
    "## Putting it all together\n",
    "\n",
    "Using all of these skills together, let's do something that we couldn't do easily with a scientific calculator. Let's find sum of all of the positive, even numbers less than 10,000.\n",
    "\n",
    "We'll do that in a few steps below: "
   ]
  },
  {
   "cell_type": "code",
   "execution_count": 51,
   "metadata": {},
   "outputs": [
    {
     "name": "stdout",
     "output_type": "stream",
     "text": [
      "[   0    2    4 ... 9994 9996 9998]\n"
     ]
    }
   ],
   "source": [
    "even_int = np.arange(0,10000,2)\n",
    "print (even_int)"
   ]
  },
  {
   "cell_type": "code",
   "execution_count": 53,
   "metadata": {},
   "outputs": [
    {
     "data": {
      "text/plain": [
       "24995000"
      ]
     },
     "execution_count": 53,
     "metadata": {},
     "output_type": "execute_result"
    }
   ],
   "source": [
    "even_int.sum()"
   ]
  },
  {
   "cell_type": "code",
   "execution_count": 54,
   "metadata": {
    "scrolled": true
   },
   "outputs": [
    {
     "name": "stdout",
     "output_type": "stream",
     "text": [
      "24995000\n"
     ]
    }
   ],
   "source": [
    "total = np.sum(even_int)\n",
    "print(total)"
   ]
  },
  {
   "cell_type": "code",
   "execution_count": 59,
   "metadata": {},
   "outputs": [
    {
     "data": {
      "text/plain": [
       "array([-1000,  -998,  -996,  -994,  -992,  -990,  -988,  -986,  -984,\n",
       "        -982,  -980,  -978,  -976,  -974,  -972,  -970,  -968,  -966,\n",
       "        -964,  -962,  -960,  -958,  -956,  -954,  -952,  -950,  -948,\n",
       "        -946,  -944,  -942,  -940,  -938,  -936,  -934,  -932,  -930,\n",
       "        -928,  -926,  -924,  -922,  -920,  -918,  -916,  -914,  -912,\n",
       "        -910,  -908,  -906,  -904,  -902,  -900,  -898,  -896,  -894,\n",
       "        -892,  -890,  -888,  -886,  -884,  -882,  -880,  -878,  -876,\n",
       "        -874,  -872,  -870,  -868,  -866,  -864,  -862,  -860,  -858,\n",
       "        -856,  -854,  -852,  -850,  -848,  -846,  -844,  -842,  -840,\n",
       "        -838,  -836,  -834,  -832,  -830,  -828,  -826,  -824,  -822,\n",
       "        -820,  -818,  -816,  -814,  -812,  -810,  -808,  -806,  -804,\n",
       "        -802,  -800,  -798,  -796,  -794,  -792,  -790,  -788,  -786,\n",
       "        -784,  -782,  -780,  -778,  -776,  -774,  -772,  -770,  -768,\n",
       "        -766,  -764,  -762,  -760,  -758,  -756,  -754,  -752,  -750,\n",
       "        -748,  -746,  -744,  -742,  -740,  -738,  -736,  -734,  -732,\n",
       "        -730,  -728,  -726,  -724,  -722,  -720,  -718,  -716,  -714,\n",
       "        -712,  -710,  -708,  -706,  -704,  -702,  -700,  -698,  -696,\n",
       "        -694,  -692,  -690,  -688,  -686,  -684,  -682,  -680,  -678,\n",
       "        -676,  -674,  -672,  -670,  -668,  -666,  -664,  -662,  -660,\n",
       "        -658,  -656,  -654,  -652,  -650,  -648,  -646,  -644,  -642,\n",
       "        -640,  -638,  -636,  -634,  -632,  -630,  -628,  -626,  -624,\n",
       "        -622,  -620,  -618,  -616,  -614,  -612,  -610,  -608,  -606,\n",
       "        -604,  -602,  -600,  -598,  -596,  -594,  -592,  -590,  -588,\n",
       "        -586,  -584,  -582,  -580,  -578,  -576,  -574,  -572,  -570,\n",
       "        -568,  -566,  -564,  -562,  -560,  -558,  -556,  -554,  -552,\n",
       "        -550,  -548,  -546,  -544,  -542,  -540,  -538,  -536,  -534,\n",
       "        -532,  -530,  -528,  -526,  -524,  -522,  -520,  -518,  -516,\n",
       "        -514,  -512,  -510,  -508,  -506,  -504,  -502,  -500,  -498,\n",
       "        -496,  -494,  -492,  -490,  -488,  -486,  -484,  -482,  -480,\n",
       "        -478,  -476,  -474,  -472,  -470,  -468,  -466,  -464,  -462,\n",
       "        -460,  -458,  -456,  -454,  -452,  -450,  -448,  -446,  -444,\n",
       "        -442,  -440,  -438,  -436,  -434,  -432,  -430,  -428,  -426,\n",
       "        -424,  -422,  -420,  -418,  -416,  -414,  -412,  -410,  -408,\n",
       "        -406,  -404,  -402,  -400,  -398,  -396,  -394,  -392,  -390,\n",
       "        -388,  -386,  -384,  -382,  -380,  -378,  -376,  -374,  -372,\n",
       "        -370,  -368,  -366,  -364,  -362,  -360,  -358,  -356,  -354,\n",
       "        -352,  -350,  -348,  -346,  -344,  -342,  -340,  -338,  -336,\n",
       "        -334,  -332,  -330,  -328,  -326,  -324,  -322,  -320,  -318,\n",
       "        -316,  -314,  -312,  -310,  -308,  -306,  -304,  -302,  -300,\n",
       "        -298,  -296,  -294,  -292,  -290,  -288,  -286,  -284,  -282,\n",
       "        -280,  -278,  -276,  -274,  -272,  -270,  -268,  -266,  -264,\n",
       "        -262,  -260,  -258,  -256,  -254,  -252,  -250,  -248,  -246,\n",
       "        -244,  -242,  -240,  -238,  -236,  -234,  -232,  -230,  -228,\n",
       "        -226,  -224,  -222,  -220,  -218,  -216,  -214,  -212,  -210,\n",
       "        -208,  -206,  -204,  -202,  -200,  -198,  -196,  -194,  -192,\n",
       "        -190,  -188,  -186,  -184,  -182,  -180,  -178,  -176,  -174,\n",
       "        -172,  -170,  -168,  -166,  -164,  -162,  -160,  -158,  -156,\n",
       "        -154,  -152,  -150,  -148,  -146,  -144,  -142,  -140,  -138,\n",
       "        -136,  -134,  -132,  -130,  -128,  -126,  -124,  -122,  -120,\n",
       "        -118,  -116,  -114,  -112,  -110,  -108,  -106,  -104,  -102,\n",
       "        -100,   -98,   -96,   -94,   -92,   -90,   -88,   -86,   -84,\n",
       "         -82,   -80,   -78,   -76,   -74,   -72,   -70,   -68,   -66,\n",
       "         -64,   -62,   -60,   -58,   -56,   -54,   -52,   -50,   -48,\n",
       "         -46,   -44,   -42,   -40,   -38,   -36,   -34,   -32,   -30,\n",
       "         -28,   -26,   -24,   -22,   -20,   -18,   -16,   -14,   -12,\n",
       "         -10,    -8,    -6,    -4,    -2,     0,     2,     4,     6,\n",
       "           8,    10,    12,    14,    16,    18,    20,    22,    24,\n",
       "          26,    28,    30,    32,    34,    36,    38,    40,    42,\n",
       "          44,    46,    48,    50,    52,    54,    56,    58,    60,\n",
       "          62,    64,    66,    68,    70,    72,    74,    76,    78,\n",
       "          80,    82,    84,    86,    88,    90,    92,    94,    96,\n",
       "          98,   100,   102,   104,   106,   108,   110,   112,   114,\n",
       "         116,   118,   120,   122,   124,   126,   128,   130,   132,\n",
       "         134,   136,   138,   140,   142,   144,   146,   148,   150,\n",
       "         152,   154,   156,   158,   160,   162,   164,   166,   168,\n",
       "         170,   172,   174,   176,   178,   180,   182,   184,   186,\n",
       "         188,   190,   192,   194,   196,   198,   200,   202,   204,\n",
       "         206,   208,   210,   212,   214,   216,   218,   220,   222,\n",
       "         224,   226,   228,   230,   232,   234,   236,   238,   240,\n",
       "         242,   244,   246,   248,   250,   252,   254,   256,   258,\n",
       "         260,   262,   264,   266,   268,   270,   272,   274,   276,\n",
       "         278,   280,   282,   284,   286,   288,   290,   292,   294,\n",
       "         296,   298,   300,   302,   304,   306,   308,   310,   312,\n",
       "         314,   316,   318,   320,   322,   324,   326,   328,   330,\n",
       "         332,   334,   336,   338,   340,   342,   344,   346,   348,\n",
       "         350,   352,   354,   356,   358,   360,   362,   364,   366,\n",
       "         368,   370,   372,   374,   376,   378,   380,   382,   384,\n",
       "         386,   388,   390,   392,   394,   396,   398,   400,   402,\n",
       "         404,   406,   408,   410,   412,   414,   416,   418,   420,\n",
       "         422,   424,   426,   428,   430,   432,   434,   436,   438,\n",
       "         440,   442,   444,   446,   448,   450,   452,   454,   456,\n",
       "         458,   460,   462,   464,   466,   468,   470,   472,   474,\n",
       "         476,   478,   480,   482,   484,   486,   488,   490,   492,\n",
       "         494,   496,   498,   500,   502,   504,   506,   508,   510,\n",
       "         512,   514,   516,   518,   520,   522,   524,   526,   528,\n",
       "         530,   532,   534,   536,   538,   540,   542,   544,   546,\n",
       "         548,   550,   552,   554,   556,   558,   560,   562,   564,\n",
       "         566,   568,   570,   572,   574,   576,   578,   580,   582,\n",
       "         584,   586,   588,   590,   592,   594,   596,   598,   600,\n",
       "         602,   604,   606,   608,   610,   612,   614,   616,   618,\n",
       "         620,   622,   624,   626,   628,   630,   632,   634,   636,\n",
       "         638,   640,   642,   644,   646,   648,   650,   652,   654,\n",
       "         656,   658,   660,   662,   664,   666,   668,   670,   672,\n",
       "         674,   676,   678,   680,   682,   684,   686,   688,   690,\n",
       "         692,   694,   696,   698,   700,   702,   704,   706,   708,\n",
       "         710,   712,   714,   716,   718,   720,   722,   724,   726,\n",
       "         728,   730,   732,   734,   736,   738,   740,   742,   744,\n",
       "         746,   748,   750,   752,   754,   756,   758,   760,   762,\n",
       "         764,   766,   768,   770,   772,   774,   776,   778,   780,\n",
       "         782,   784,   786,   788,   790,   792,   794,   796,   798,\n",
       "         800,   802,   804,   806,   808,   810,   812,   814,   816,\n",
       "         818,   820,   822,   824,   826,   828,   830,   832,   834,\n",
       "         836,   838,   840,   842,   844,   846,   848,   850,   852,\n",
       "         854,   856,   858,   860,   862,   864,   866,   868,   870,\n",
       "         872,   874,   876,   878,   880,   882,   884,   886,   888,\n",
       "         890,   892,   894,   896,   898,   900,   902,   904,   906,\n",
       "         908,   910,   912,   914,   916,   918,   920,   922,   924,\n",
       "         926,   928,   930,   932,   934,   936,   938,   940,   942,\n",
       "         944,   946,   948,   950,   952,   954,   956,   958,   960,\n",
       "         962,   964,   966,   968,   970,   972,   974,   976,   978,\n",
       "         980,   982,   984,   986,   988,   990,   992,   994,   996,\n",
       "         998])"
      ]
     },
     "execution_count": 59,
     "metadata": {},
     "output_type": "execute_result"
    }
   ],
   "source": [
    "integers = np.arange (-1000,1000,2)\n",
    "integers"
   ]
  },
  {
   "cell_type": "code",
   "execution_count": 60,
   "metadata": {},
   "outputs": [
    {
     "name": "stdout",
     "output_type": "stream",
     "text": [
      "[-1000  -998  -996  -994  -992  -990  -988  -986  -984  -982  -980  -978\n",
      "  -976  -974  -972  -970  -968  -966  -964  -962  -960  -958  -956  -954\n",
      "  -952  -950  -948  -946  -944  -942  -940  -938  -936  -934  -932  -930\n",
      "  -928  -926  -924  -922  -920  -918  -916  -914  -912  -910  -908  -906\n",
      "  -904  -902  -900  -898  -896  -894  -892  -890  -888  -886  -884  -882\n",
      "  -880  -878  -876  -874  -872  -870  -868  -866  -864  -862  -860  -858\n",
      "  -856  -854  -852  -850  -848  -846  -844  -842  -840  -838  -836  -834\n",
      "  -832  -830  -828  -826  -824  -822  -820  -818  -816  -814  -812  -810\n",
      "  -808  -806  -804  -802  -800  -798  -796  -794  -792  -790  -788  -786\n",
      "  -784  -782  -780  -778  -776  -774  -772  -770  -768  -766  -764  -762\n",
      "  -760  -758  -756  -754  -752  -750  -748  -746  -744  -742  -740  -738\n",
      "  -736  -734  -732  -730  -728  -726  -724  -722  -720  -718  -716  -714\n",
      "  -712  -710  -708  -706  -704  -702  -700  -698  -696  -694  -692  -690\n",
      "  -688  -686  -684  -682  -680  -678  -676  -674  -672  -670  -668  -666\n",
      "  -664  -662  -660  -658  -656  -654  -652  -650  -648  -646  -644  -642\n",
      "  -640  -638  -636  -634  -632  -630  -628  -626  -624  -622  -620  -618\n",
      "  -616  -614  -612  -610  -608  -606  -604  -602  -600  -598  -596  -594\n",
      "  -592  -590  -588  -586  -584  -582  -580  -578  -576  -574  -572  -570\n",
      "  -568  -566  -564  -562  -560  -558  -556  -554  -552  -550  -548  -546\n",
      "  -544  -542  -540  -538  -536  -534  -532  -530  -528  -526  -524  -522\n",
      "  -520  -518  -516  -514  -512  -510  -508  -506  -504  -502  -500  -498\n",
      "  -496  -494  -492  -490  -488  -486  -484  -482  -480  -478  -476  -474\n",
      "  -472  -470  -468  -466  -464  -462  -460  -458  -456  -454  -452  -450\n",
      "  -448  -446  -444  -442  -440  -438  -436  -434  -432  -430  -428  -426\n",
      "  -424  -422  -420  -418  -416  -414  -412  -410  -408  -406  -404  -402\n",
      "  -400  -398  -396  -394  -392  -390  -388  -386  -384  -382  -380  -378\n",
      "  -376  -374  -372  -370  -368  -366  -364  -362  -360  -358  -356  -354\n",
      "  -352  -350  -348  -346  -344  -342  -340  -338  -336  -334  -332  -330\n",
      "  -328  -326  -324  -322  -320  -318  -316  -314  -312  -310  -308  -306\n",
      "  -304  -302  -300  -298  -296  -294  -292  -290  -288  -286  -284  -282\n",
      "  -280  -278  -276  -274  -272  -270  -268  -266  -264  -262  -260  -258\n",
      "  -256  -254  -252  -250  -248  -246  -244  -242  -240  -238  -236  -234\n",
      "  -232  -230  -228  -226  -224  -222  -220  -218  -216  -214  -212  -210\n",
      "  -208  -206  -204  -202  -200  -198  -196  -194  -192  -190  -188  -186\n",
      "  -184  -182  -180  -178  -176  -174  -172  -170  -168  -166  -164  -162\n",
      "  -160  -158  -156  -154  -152  -150  -148  -146  -144  -142  -140  -138\n",
      "  -136  -134  -132  -130  -128  -126  -124  -122  -120  -118  -116  -114\n",
      "  -112  -110  -108  -106  -104  -102  -100   -98   -96   -94   -92   -90\n",
      "   -88   -86   -84   -82   -80   -78   -76   -74   -72   -70   -68   -66\n",
      "   -64   -62   -60   -58   -56   -54   -52   -50   -48   -46   -44   -42\n",
      "   -40   -38   -36   -34   -32   -30   -28   -26   -24   -22   -20   -18\n",
      "   -16   -14   -12   -10    -8    -6    -4    -2     0     2     4     6\n",
      "     8    10    12    14    16    18    20    22    24    26    28    30\n",
      "    32    34    36    38    40    42    44    46    48    50    52    54\n",
      "    56    58    60    62    64    66    68    70    72    74    76    78\n",
      "    80    82    84    86    88    90    92    94    96    98   100   102\n",
      "   104   106   108   110   112   114   116   118   120   122   124   126\n",
      "   128   130   132   134   136   138   140   142   144   146   148   150\n",
      "   152   154   156   158   160   162   164   166   168   170   172   174\n",
      "   176   178   180   182   184   186   188   190   192   194   196   198\n",
      "   200   202   204   206   208   210   212   214   216   218   220   222\n",
      "   224   226   228   230   232   234   236   238   240   242   244   246\n",
      "   248   250   252   254   256   258   260   262   264   266   268   270\n",
      "   272   274   276   278   280   282   284   286   288   290   292   294\n",
      "   296   298   300   302   304   306   308   310   312   314   316   318\n",
      "   320   322   324   326   328   330   332   334   336   338   340   342\n",
      "   344   346   348   350   352   354   356   358   360   362   364   366\n",
      "   368   370   372   374   376   378   380   382   384   386   388   390\n",
      "   392   394   396   398   400   402   404   406   408   410   412   414\n",
      "   416   418   420   422   424   426   428   430   432   434   436   438\n",
      "   440   442   444   446   448   450   452   454   456   458   460   462\n",
      "   464   466   468   470   472   474   476   478   480   482   484   486\n",
      "   488   490   492   494   496   498   500   502   504   506   508   510\n",
      "   512   514   516   518   520   522   524   526   528   530   532   534\n",
      "   536   538   540   542   544   546   548   550   552   554   556   558\n",
      "   560   562   564   566   568   570   572   574   576   578   580   582\n",
      "   584   586   588   590   592   594   596   598   600   602   604   606\n",
      "   608   610   612   614   616   618   620   622   624   626   628   630\n",
      "   632   634   636   638   640   642   644   646   648   650   652   654\n",
      "   656   658   660   662   664   666   668   670   672   674   676   678\n",
      "   680   682   684   686   688   690   692   694   696   698   700   702\n",
      "   704   706   708   710   712   714   716   718   720   722   724   726\n",
      "   728   730   732   734   736   738   740   742   744   746   748   750\n",
      "   752   754   756   758   760   762   764   766   768   770   772   774\n",
      "   776   778   780   782   784   786   788   790   792   794   796   798\n",
      "   800   802   804   806   808   810   812   814   816   818   820   822\n",
      "   824   826   828   830   832   834   836   838   840   842   844   846\n",
      "   848   850   852   854   856   858   860   862   864   866   868   870\n",
      "   872   874   876   878   880   882   884   886   888   890   892   894\n",
      "   896   898   900   902   904   906   908   910   912   914   916   918\n",
      "   920   922   924   926   928   930   932   934   936   938   940   942\n",
      "   944   946   948   950   952   954   956   958   960   962   964   966\n",
      "   968   970   972   974   976   978   980   982   984   986   988   990\n",
      "   992   994   996   998]\n"
     ]
    }
   ],
   "source": [
    "print(integers)"
   ]
  },
  {
   "cell_type": "code",
   "execution_count": 65,
   "metadata": {
    "scrolled": false
   },
   "outputs": [
    {
     "data": {
      "text/plain": [
       "array([-998, -994, -990, -986, -982, -978, -974, -970, -966, -962, -958,\n",
       "       -954, -950, -946, -942, -938, -934, -930, -926, -922, -918, -914,\n",
       "       -910, -906, -902, -898, -894, -890, -886, -882, -878, -874, -870,\n",
       "       -866, -862, -858, -854, -850, -846, -842, -838, -834, -830, -826,\n",
       "       -822, -818, -814, -810, -806, -802, -798, -794, -790, -786, -782,\n",
       "       -778, -774, -770, -766, -762, -758, -754, -750, -746, -742, -738,\n",
       "       -734, -730, -726, -722, -718, -714, -710, -706, -702, -698, -694,\n",
       "       -690, -686, -682, -678, -674, -670, -666, -662, -658, -654, -650,\n",
       "       -646, -642, -638, -634, -630, -626, -622, -618, -614, -610, -606,\n",
       "       -602, -598, -594, -590, -586, -582, -578, -574, -570, -566, -562,\n",
       "       -558, -554, -550, -546, -542, -538, -534, -530, -526, -522, -518,\n",
       "       -514, -510, -506, -502, -498, -494, -490, -486, -482, -478, -474,\n",
       "       -470, -466, -462, -458, -454, -450, -446, -442, -438, -434, -430,\n",
       "       -426, -422, -418, -414, -410, -406, -402, -398, -394, -390, -386,\n",
       "       -382, -378, -374, -370, -366, -362, -358, -354, -350, -346, -342,\n",
       "       -338, -334, -330, -326, -322, -318, -314, -310, -306, -302, -298,\n",
       "       -294, -290, -286, -282, -278, -274, -270, -266, -262, -258, -254,\n",
       "       -250, -246, -242, -238, -234, -230, -226, -222, -218, -214, -210,\n",
       "       -206, -202, -198, -194, -190, -186, -182, -178, -174, -170, -166,\n",
       "       -162, -158, -154, -150, -146, -142, -138, -134, -130, -126, -122,\n",
       "       -118, -114, -110, -106, -102,  -98,  -94,  -90,  -86,  -82,  -78,\n",
       "        -74,  -70,  -66,  -62,  -58,  -54,  -50,  -46,  -42,  -38,  -34,\n",
       "        -30,  -26,  -22,  -18,  -14,  -10,   -6,   -2,    2,    6,   10,\n",
       "         14,   18,   22,   26,   30,   34,   38,   42,   46,   50,   54,\n",
       "         58,   62,   66,   70,   74,   78,   82,   86,   90,   94,   98,\n",
       "        102,  106,  110,  114,  118,  122,  126,  130,  134,  138,  142,\n",
       "        146,  150,  154,  158,  162,  166,  170,  174,  178,  182,  186,\n",
       "        190,  194,  198,  202,  206,  210,  214,  218,  222,  226,  230,\n",
       "        234,  238,  242,  246,  250,  254,  258,  262,  266,  270,  274,\n",
       "        278,  282,  286,  290,  294,  298,  302,  306,  310,  314,  318,\n",
       "        322,  326,  330,  334,  338,  342,  346,  350,  354,  358,  362,\n",
       "        366,  370,  374,  378,  382,  386,  390,  394,  398,  402,  406,\n",
       "        410,  414,  418,  422,  426,  430,  434,  438,  442,  446,  450,\n",
       "        454,  458,  462,  466,  470,  474,  478,  482,  486,  490,  494,\n",
       "        498,  502,  506,  510,  514,  518,  522,  526,  530,  534,  538,\n",
       "        542,  546,  550,  554,  558,  562,  566,  570,  574,  578,  582,\n",
       "        586,  590,  594,  598,  602,  606,  610,  614,  618,  622,  626,\n",
       "        630,  634,  638,  642,  646,  650,  654,  658,  662,  666,  670,\n",
       "        674,  678,  682,  686,  690,  694,  698,  702,  706,  710,  714,\n",
       "        718,  722,  726,  730,  734,  738,  742,  746,  750,  754,  758,\n",
       "        762,  766,  770,  774,  778,  782,  786,  790,  794,  798,  802,\n",
       "        806,  810,  814,  818,  822,  826,  830,  834,  838,  842,  846,\n",
       "        850,  854,  858,  862,  866,  870,  874,  878,  882,  886,  890,\n",
       "        894,  898,  902,  906,  910,  914,  918,  922,  926,  930,  934,\n",
       "        938,  942,  946,  950,  954,  958,  962,  966,  970,  974,  978,\n",
       "        982,  986,  990,  994,  998])"
      ]
     },
     "execution_count": 65,
     "metadata": {},
     "output_type": "execute_result"
    }
   ],
   "source": [
    "odd_int\n",
    "even_int\n",
    "odd_int/2\n",
    "every_other = integers [1: :2]\n",
    "every_other"
   ]
  },
  {
   "cell_type": "markdown",
   "metadata": {},
   "source": [
    "***\n",
    "\n",
    "### Exercise 6\n",
    "\n",
    "Using the above steps as a template, figure out the sum of the **odd** numbers less than **100,000**:"
   ]
  },
  {
   "cell_type": "code",
   "execution_count": 55,
   "metadata": {},
   "outputs": [
    {
     "name": "stdout",
     "output_type": "stream",
     "text": [
      "[   1    3    5 ... 9995 9997 9999]\n"
     ]
    }
   ],
   "source": [
    "odd_int = np.arange (1,10000,2)\n",
    "print(odd_int)"
   ]
  },
  {
   "cell_type": "code",
   "execution_count": 57,
   "metadata": {},
   "outputs": [
    {
     "data": {
      "text/plain": [
       "25000000"
      ]
     },
     "execution_count": 57,
     "metadata": {},
     "output_type": "execute_result"
    }
   ],
   "source": [
    "odd_int.sum()"
   ]
  },
  {
   "cell_type": "code",
   "execution_count": null,
   "metadata": {},
   "outputs": [],
   "source": []
  }
 ],
 "metadata": {
  "kernelspec": {
   "display_name": "Python 3",
   "language": "python",
   "name": "python3"
  },
  "language_info": {
   "codemirror_mode": {
    "name": "ipython",
    "version": 3
   },
   "file_extension": ".py",
   "mimetype": "text/x-python",
   "name": "python",
   "nbconvert_exporter": "python",
   "pygments_lexer": "ipython3",
   "version": "3.7.8"
  }
 },
 "nbformat": 4,
 "nbformat_minor": 1
}
